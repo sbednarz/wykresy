{
 "cells": [
  {
   "cell_type": "code",
   "execution_count": 3,
   "id": "0a41d18f-6562-4c5c-8cda-3ba5b4ea2dbe",
   "metadata": {
    "tags": []
   },
   "outputs": [
    {
     "name": "stdout",
     "output_type": "stream",
     "text": [
      "[1, 2, 10]\n"
     ]
    }
   ],
   "source": [
    "# lista w Python:\n",
    "a = [1, 2, 10]\n",
    "\n",
    "# w tym przypadku pojemnik na 3 elementy, pod jedną nazwą\n",
    "\n",
    "print(a)"
   ]
  },
  {
   "cell_type": "code",
   "execution_count": 5,
   "id": "cc29e1be-23ea-4a0f-8743-efd886c1d23b",
   "metadata": {
    "tags": []
   },
   "outputs": [
    {
     "name": "stdout",
     "output_type": "stream",
     "text": [
      "1\n",
      "2\n",
      "10\n"
     ]
    }
   ],
   "source": [
    "# ale każdy element ma swój nr = indeks\n",
    "print(a[0])\n",
    "print(a[1])\n",
    "print(a[2])"
   ]
  },
  {
   "cell_type": "code",
   "execution_count": 6,
   "id": "c607ed41-0c7d-49fa-a5bc-ab356ba922e1",
   "metadata": {
    "tags": []
   },
   "outputs": [
    {
     "name": "stdout",
     "output_type": "stream",
     "text": [
      "13\n"
     ]
    }
   ],
   "source": [
    "# suma elementów listy 'a'\n",
    "\n",
    "b = a[0] + a[1] + a[2]\n",
    "print(b)"
   ]
  },
  {
   "cell_type": "code",
   "execution_count": 7,
   "id": "79e74848-13d1-4623-941a-66a32d7445bc",
   "metadata": {
    "tags": []
   },
   "outputs": [
    {
     "name": "stdout",
     "output_type": "stream",
     "text": [
      "[ 1  2 10]\n",
      "1\n",
      "2\n",
      "10\n",
      "Suma elementów v1:\n",
      "13\n",
      "[ 3  4 12]\n",
      "[  1   4 100]\n",
      "[ 3  6 30]\n"
     ]
    }
   ],
   "source": [
    "# w module numpy jest DUŻO LEPSZA implementacja pojemników: macierzy, wektorów\n",
    "\n",
    "import numpy as np\n",
    "\n",
    "# wektor v1:\n",
    "v1 = np.array( [1,2,10] )\n",
    "\n",
    "print(v1) # 3 elements: 1,2,10\n",
    "print( v1[0] ) # first element (index = 1)\n",
    "print( v1[1] ) # first element (index = 2)\n",
    "print( v1[2] ) # first element (index = 10)\n",
    "\n",
    "print('Suma elementów v1:')\n",
    "\n",
    "print( v1[0] + v1[1] + v1[2] )\n",
    "\n"
   ]
  },
  {
   "cell_type": "code",
   "execution_count": 12,
   "id": "304aa91b-ab99-4c41-8098-8c09510de8db",
   "metadata": {
    "tags": []
   },
   "outputs": [
    {
     "name": "stdout",
     "output_type": "stream",
     "text": [
      "Elementy+2 [ 1  2 10] => [ 3  4 12]\n",
      "Elementy do potęgi 2 [ 1  2 10] => [  1   4 100]\n",
      "Elementy x3 [ 1  2 10] => [ 3  6 30]\n"
     ]
    }
   ],
   "source": [
    "#Działania arytmetyczne na wektorach (najczęściej element-po-elemencie):\n",
    "\n",
    "print(\"Elementy+2\", v1, \"=>\", v1+2 )\n",
    "print(\"Elementy do potęgi 2\", v1, \"=>\", v1**2 )\n",
    "print(\"Elementy x3\", v1, \"=>\", 3*v1)"
   ]
  },
  {
   "cell_type": "code",
   "execution_count": 15,
   "id": "7f93ff10-fe35-4751-a3d4-401e1e358642",
   "metadata": {
    "tags": []
   },
   "outputs": [
    {
     "name": "stdout",
     "output_type": "stream",
     "text": [
      "log10 [0.30103    0.60205999 0.77815125]\n",
      "[2 4 6]\n",
      "[0.30103    0.60205999 0.77815125]\n"
     ]
    }
   ],
   "source": [
    "v1 = np.array( [2,4,6] )\n",
    "\n",
    "# nowy wektor z wynikami obliczeń, stary (v1) bez zmian\n",
    "print(\"log10\", np.log10(v1) )\n",
    "print(v1)\n",
    "v2 = np.log10(v1)\n",
    "print(v2)"
   ]
  },
  {
   "cell_type": "code",
   "execution_count": 16,
   "id": "751781bf-a971-4def-93d7-5a3ed8d6dee9",
   "metadata": {
    "tags": []
   },
   "outputs": [
    {
     "name": "stdout",
     "output_type": "stream",
     "text": [
      "[ 0.   2.5  5.   7.5 10. ]\n"
     ]
    }
   ],
   "source": [
    "# tworzenie serii/ciągów liczb (bezcenne przy tworzeniu wykresów):\n",
    "\n",
    "v1 = np.linspace(0, 10, 5)\n",
    "# start = 0\n",
    "# end = 10\n",
    "# ilość elementów, równo od siebie oddalonych (N) = 5\n",
    "\n",
    "print(v1)"
   ]
  },
  {
   "cell_type": "code",
   "execution_count": 18,
   "id": "007b7c08-a982-468a-b014-a24b763e8c9e",
   "metadata": {
    "tags": []
   },
   "outputs": [
    {
     "name": "stdout",
     "output_type": "stream",
     "text": [
      "[ 0.          0.20408163  0.40816327  0.6122449   0.81632653  1.02040816\n",
      "  1.2244898   1.42857143  1.63265306  1.83673469  2.04081633  2.24489796\n",
      "  2.44897959  2.65306122  2.85714286  3.06122449  3.26530612  3.46938776\n",
      "  3.67346939  3.87755102  4.08163265  4.28571429  4.48979592  4.69387755\n",
      "  4.89795918  5.10204082  5.30612245  5.51020408  5.71428571  5.91836735\n",
      "  6.12244898  6.32653061  6.53061224  6.73469388  6.93877551  7.14285714\n",
      "  7.34693878  7.55102041  7.75510204  7.95918367  8.16326531  8.36734694\n",
      "  8.57142857  8.7755102   8.97959184  9.18367347  9.3877551   9.59183673\n",
      "  9.79591837 10.        ]\n"
     ]
    }
   ],
   "source": [
    "v1 = np.linspace(0, 10) # domyślnie 50 elementów\n",
    "print(v1)"
   ]
  },
  {
   "cell_type": "code",
   "execution_count": 22,
   "id": "072df559-cb90-4ca3-979c-fe9645d6310f",
   "metadata": {
    "tags": []
   },
   "outputs": [
    {
     "name": "stdout",
     "output_type": "stream",
     "text": [
      "[[10 20]\n",
      " [30 40]\n",
      " [50 60]]\n",
      "------\n",
      "10\n",
      "40\n"
     ]
    }
   ],
   "source": [
    "# Tablice/macierze\n",
    "\n",
    "# Tworzenie maciecrzy 2x3 (2 kolumny, 3 wiersze)\n",
    "\n",
    "m1 = np.array([[10,20],[30,40],[50,60]])\n",
    "print(m1)\n",
    "print(\"------\")\n",
    "# Addressing one element [row_index][column_index]:\n",
    "print( m1[0][0] ) # 10 pierwszy wiersz i pierwsza kolumna\n",
    "print( m1[1][1] ) # 40 drugi element i druga kolumna\n",
    "\n"
   ]
  },
  {
   "cell_type": "code",
   "execution_count": null,
   "id": "533e3285-62ce-49eb-a471-ce79df33716c",
   "metadata": {},
   "outputs": [],
   "source": [
    "# wycinanie/wybieranie z macierzy kolumn (bardzo przydatne przy two\n",
    "kolumna0 = m1[:,0]\n",
    "kolumna1 = m1[:,1]\n"
   ]
  }
 ],
 "metadata": {
  "kernelspec": {
   "display_name": "Python 3 (ipykernel)",
   "language": "python",
   "name": "python3"
  },
  "language_info": {
   "codemirror_mode": {
    "name": "ipython",
    "version": 3
   },
   "file_extension": ".py",
   "mimetype": "text/x-python",
   "name": "python",
   "nbconvert_exporter": "python",
   "pygments_lexer": "ipython3",
   "version": "3.10.12"
  }
 },
 "nbformat": 4,
 "nbformat_minor": 5
}
