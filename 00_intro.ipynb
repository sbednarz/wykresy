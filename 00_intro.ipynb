{
 "cells": [
  {
   "cell_type": "code",
   "execution_count": 1,
   "id": "7b7666ba-537e-4187-898c-b0c45aff44c6",
   "metadata": {
    "tags": []
   },
   "outputs": [],
   "source": [
    "# Wprowadzenie do Python\n",
    "\n",
    "# Hash rozpoczyna komentarz, który jest IGNOROWANY przez Python\n",
    "# Zastosowania:\n",
    "# - notatki, komentarze do kodu\n",
    "# - jednostki miar\n",
    "# - on/off fregmentów kodu\n",
    "\n"
   ]
  },
  {
   "cell_type": "code",
   "execution_count": 2,
   "id": "d6f859a6-3461-4d51-a7d9-bdfdeb403f51",
   "metadata": {
    "tags": []
   },
   "outputs": [
    {
     "name": "stdout",
     "output_type": "stream",
     "text": [
      "Ala ma kota.\n"
     ]
    }
   ],
   "source": [
    "print(\"Ala ma kota.\") # pierwsza komenda w Python ;)"
   ]
  },
  {
   "cell_type": "code",
   "execution_count": 7,
   "id": "e031b707-805f-4fa3-9235-9259e6f1f6d0",
   "metadata": {
    "tags": []
   },
   "outputs": [
    {
     "name": "stdout",
     "output_type": "stream",
     "text": [
      "2\n",
      "1.3 0.045\n",
      "Trzy na raz: 2 1.3 0.045\n",
      "Albo tak: a = 2 b = 1.3 c = 0.045\n"
     ]
    }
   ],
   "source": [
    "# Tworzenie zmiennych:\n",
    "\n",
    "a = 2\n",
    "b = 1.3\n",
    "c = 4.5e-2 # notacja naukowa => 4.5x10^-2\n",
    "\n",
    "# wyświetlanie zawartości zmiennych:\n",
    "\n",
    "print(a) # tylko 'a'\n",
    "\n",
    "print(b, c) # dwie na raz\n",
    "\n",
    "print(\"Trzy na raz:\",a,b,c)\n",
    "print(\"Albo tak: a =\",a, \"b =\",b, \"c =\",c)\n"
   ]
  },
  {
   "cell_type": "code",
   "execution_count": 9,
   "id": "8f54f290-b44d-4b8c-b192-df960224965f",
   "metadata": {
    "tags": []
   },
   "outputs": [
    {
     "name": "stdout",
     "output_type": "stream",
     "text": [
      "5\n",
      "5\n",
      "8\n",
      "256\n",
      "1.2999999999999998\n"
     ]
    }
   ],
   "source": [
    "# Działania arytmetyczne\n",
    "\n",
    "a = 2\n",
    "b = 3\n",
    "\n",
    "print(a+b)\n",
    "\n",
    "c = a + b\n",
    "print(c)\n",
    "\n",
    "d = a + b*a\n",
    "print(d)\n",
    "\n",
    "d = 2**8 # 2 do potęgi 8\n",
    "print(d)\n",
    "\n",
    "d = (a + 1.3*a)/a - 1\n",
    "print(d)\n",
    "\n",
    "# + - * / **\n",
    "# nawiasy okrągłe ()"
   ]
  },
  {
   "cell_type": "code",
   "execution_count": 12,
   "id": "23bfd596-5d70-4cec-9879-37232bf433a0",
   "metadata": {
    "tags": []
   },
   "outputs": [
    {
     "name": "stdout",
     "output_type": "stream",
     "text": [
      "n= 0.4\n",
      "V= 1.6\n",
      "Stężenie molowe = 0.25\n"
     ]
    }
   ],
   "source": [
    "# --- Przykład 1\n",
    "# obliczenie stężenia molowego (zmienne i działania arytmetyczne)\n",
    "\n",
    "n = 0.4 # mol <--- jednostki miar jako komentarz\n",
    "V = 1.6 # L\n",
    "c = n/V # mol/L\n",
    "\n",
    "# wydruk wyników - raport\n",
    "print('n=', n)\n",
    "print('V=', V)\n",
    "print('Stężenie molowe =',c)\n"
   ]
  },
  {
   "cell_type": "code",
   "execution_count": 14,
   "id": "4c75661a-978c-4797-b4d1-8d512725c143",
   "metadata": {
    "tags": []
   },
   "outputs": [
    {
     "name": "stdout",
     "output_type": "stream",
     "text": [
      "0.8414709848078965\n",
      "0.5403023058681398\n",
      "1.0\n",
      "2.302585092994046\n",
      "1.4142135623730951\n",
      "1.2246467991473532e-16\n"
     ]
    }
   ],
   "source": [
    "# Bardziej zaawansowane funkcje matematyczne\n",
    "\n",
    "# import modułu\n",
    "import numpy as np\n",
    "\n",
    "# albo import funkcji z modułu\n",
    "from numpy import sin\n",
    "\n",
    "a = sin(1)\n",
    "b = np.cos(1) # nazwa funkcji = moduł.funkcja\n",
    "print(a)\n",
    "print(b)\n",
    "\n",
    "print( np.log10(10) ) # logarithm with base 10\n",
    "print( np.log(10) ) # natural logarithm\n",
    "print( np.sqrt(2) ) # square\n",
    "print( np.sin( np.pi ) ) # sin & pi constant\n"
   ]
  },
  {
   "cell_type": "code",
   "execution_count": 15,
   "id": "0c82745c-057a-4461-be6b-b5e26505503f",
   "metadata": {
    "tags": []
   },
   "outputs": [],
   "source": [
    "# 1.2246467991473532e-16 jest numerycznym zerem (0)"
   ]
  },
  {
   "cell_type": "code",
   "execution_count": null,
   "id": "3509e77f-ee86-4dc0-9c9c-3608fed43206",
   "metadata": {},
   "outputs": [],
   "source": []
  }
 ],
 "metadata": {
  "kernelspec": {
   "display_name": "Python 3 (ipykernel)",
   "language": "python",
   "name": "python3"
  },
  "language_info": {
   "codemirror_mode": {
    "name": "ipython",
    "version": 3
   },
   "file_extension": ".py",
   "mimetype": "text/x-python",
   "name": "python",
   "nbconvert_exporter": "python",
   "pygments_lexer": "ipython3",
   "version": "3.10.12"
  }
 },
 "nbformat": 4,
 "nbformat_minor": 5
}
